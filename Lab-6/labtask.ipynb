{
 "cells": [
  {
   "cell_type": "code",
   "execution_count": null,
   "id": "41ec6e1f",
   "metadata": {},
   "outputs": [
    {
     "name": "stdout",
     "output_type": "stream",
     "text": [
      "All Possible Assignments and Their Validity:\n",
      "\n",
      "(1, 2)  -->  valid\n",
      "(1, 3)  -->  valid\n",
      "(2, 2)  -->  invalid\n",
      "(2, 3)  -->  valid\n",
      "\n",
      "Summary:\n",
      "Total possible assignments: 4\n",
      "Number of valid solutions: 3\n",
      "Constraint satisfaction rate: 75.00%\n",
      "\n",
      "Valid Solutions:\n",
      "(1, 2)\n",
      "(1, 3)\n",
      "(2, 3)\n"
     ]
    }
   ],
   "source": [
    "# NO BACKTRACKING\n",
    "\n",
    "\n",
    "variables = ['x1', 'x2']\n",
    "domains = {\n",
    "    'x1': [1, 2],\n",
    "    'x2': [2, 3]\n",
    "}\n",
    "\n",
    "all_possible = []\n",
    "valid_solutions = []\n",
    "\n",
    "for x1 in domains['x1']:\n",
    "    for x2 in domains['x2']:\n",
    "        all_possible.append((x1,x2))\n",
    "        if x1 != x2:\n",
    "            valid_solutions.append((x1,x2))\n",
    "\n",
    "print(\"All Possible Assignments and Their Validity:\\n\")\n",
    "for assign in all_possible:\n",
    "    validity = \"valid\" if assign in valid_solutions else \"invalid\"\n",
    "    print(f\"{assign}  -->  {validity}\")\n",
    "\n",
    "print(\"\\nSummary:\")\n",
    "print(f\"Total possible assignments: {len(all_possible)}\")\n",
    "print(f\"Number of valid solutions: {len(valid_solutions)}\")\n",
    "rate = (len(valid_solutions) / len(all_possible)) * 100\n",
    "print(f\"Constraint satisfaction rate: {rate:.2f}%\")\n",
    "\n",
    "print(\"\\nValid Solutions:\")\n",
    "for sol in valid_solutions:\n",
    "    print(f\"{sol}\")"
   ]
  },
  {
   "cell_type": "code",
   "execution_count": 50,
   "id": "56f47a09",
   "metadata": {},
   "outputs": [
    {
     "name": "stdout",
     "output_type": "stream",
     "text": [
      "All Possible Assignments and Their Validity:\n",
      "\n",
      "(1, 2) is valid\n",
      "(1, 3) is valid\n",
      "(2, 2) is invalid\n",
      "(2, 3) is valid\n",
      "\n",
      "Summary:\n",
      "Total possible assignments: 4\n",
      "Number of valid solutions: 3\n",
      "Constraint satisfaction rate: 75.00%\n",
      "\n",
      "Valid Solutions:\n",
      "(1, 2)\n",
      "(1, 3)\n",
      "(2, 3)\n"
     ]
    }
   ],
   "source": [
    "variables = ['x1', 'x2']\n",
    "domains = {'x1': [1, 2], 'x2': [2, 3]}\n",
    "\n",
    "def is_valid(a):\n",
    "    if len(a) == len(variables):\n",
    "        return a[0] != a[1]\n",
    "    return True\n",
    "\n",
    "def backtrack(a, all_a, valid_a):\n",
    "    if len(a) == len(variables):\n",
    "        pair = tuple(a)\n",
    "        all_a.append(pair)\n",
    "        if is_valid(a):\n",
    "            valid_a.append(pair)\n",
    "        return\n",
    "    var = variables[len(a)]\n",
    "    for val in domains[var]:\n",
    "        a.append(val)\n",
    "        if is_valid(a):\n",
    "            backtrack(a, all_a, valid_a)\n",
    "        else:\n",
    "            if len(a) == 2:\n",
    "                all_a.append(tuple(a))\n",
    "        a.pop()\n",
    "\n",
    "all_assignments = []\n",
    "valid_assignments = []\n",
    "backtrack([], all_assignments, valid_assignments)\n",
    "\n",
    "print(\"All Possible Assignments and Their Validity:\\n\")\n",
    "for pair in all_assignments:\n",
    "    validity = \"valid\" if pair in valid_assignments else \"invalid\"\n",
    "    print(f\"{pair} is {validity}\")\n",
    "\n",
    "print(\"\\nSummary:\")\n",
    "print(f\"Total possible assignments: {len(all_assignments)}\")\n",
    "print(f\"Number of valid solutions: {len(valid_assignments)}\")\n",
    "rate = (len(valid_assignments) / len(all_assignments)) * 100\n",
    "print(f\"Constraint satisfaction rate: {rate:.2f}%\")\n",
    "\n",
    "print(\"\\nValid Solutions:\")\n",
    "for pair in valid_assignments:\n",
    "    print(pair)"
   ]
  },
  {
   "cell_type": "code",
   "execution_count": null,
   "id": "983d7664",
   "metadata": {},
   "outputs": [],
   "source": []
  }
 ],
 "metadata": {
  "kernelspec": {
   "display_name": ".venv",
   "language": "python",
   "name": "python3"
  },
  "language_info": {
   "codemirror_mode": {
    "name": "ipython",
    "version": 3
   },
   "file_extension": ".py",
   "mimetype": "text/x-python",
   "name": "python",
   "nbconvert_exporter": "python",
   "pygments_lexer": "ipython3",
   "version": "3.13.3"
  }
 },
 "nbformat": 4,
 "nbformat_minor": 5
}
